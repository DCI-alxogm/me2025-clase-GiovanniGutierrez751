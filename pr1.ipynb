{
  "nbformat": 4,
  "nbformat_minor": 0,
  "metadata": {
    "colab": {
      "provenance": []
    },
    "kernelspec": {
      "name": "python3",
      "display_name": "Python 3"
    },
    "language_info": {
      "name": "python"
    }
  },
  "cells": [
    {
      "cell_type": "code",
      "execution_count": null,
      "metadata": {
        "id": "_Zds7krzj_Tu"
      },
      "outputs": [],
      "source": [
        "!gcc /content/hola_mundo.c -o hola_mundo.out"
      ]
    },
    {
      "cell_type": "code",
      "source": [
        "!./hola_mundo.out"
      ],
      "metadata": {
        "id": "YxGpknN1nAxI",
        "colab": {
          "base_uri": "https://localhost:8080/"
        },
        "outputId": "464c63eb-25e7-452e-a8d3-739b998592af"
      },
      "execution_count": null,
      "outputs": [
        {
          "output_type": "stream",
          "name": "stdout",
          "text": [
            "10"
          ]
        }
      ]
    }
  ]
}